{
 "cells": [
  {
   "cell_type": "code",
   "execution_count": 1,
   "metadata": {},
   "outputs": [],
   "source": [
    "import requests"
   ]
  },
  {
   "cell_type": "code",
   "execution_count": 12,
   "metadata": {},
   "outputs": [],
   "source": [
    "total_comments = 0\n",
    "comments_count = 0\n",
    "comments = []\n",
    "page= 1\n",
    "url = 'https://e-medycyna.eu/'\n",
    "params = { 'option': 'com_comment',\n",
    "           'task': 'comments.getcomments',\n",
    "           'format': 'json',\n",
    "           'lang': 'pl',\n",
    "           'contentid': '115',\n",
    "           'component': 'com_content',\n",
    "           'start': '1' }\n"
   ]
  },
  {
   "cell_type": "code",
   "execution_count": 10,
   "metadata": {},
   "outputs": [
    {
     "name": "stdout",
     "output_type": "stream",
     "text": [
      "{'info': {'page': 13, 'countParents': 13030, 'total': 59994}, 'models': [{'id': 112682, 'parentid': -1, 'children': ['112684'], 'level': 0, 'name': 'zuzia ', 'comment': 'myślicie że 5 września coś spadnie na umlub? czy jeszcze będzie trzeba poczekać ? brakuje mi 1 pkt ', 'commentModerator': False, 'avatar': 'https://secure.gravatar.com/avatar/d41d8cd98f00b204e9800998ecf8427e?default=mm&s=64', 'date': '03:Wrz:2024; 13:09', 'votes': 0, 'published': 1, 'class': 'ccomment-odd ccomment-comment '}, {'id': 112684, 'parentid': 112682, 'children': ['112691'], 'level': 1, 'name': 'xxx', 'comment': 'Wejdziesz bez problemu', 'commentModerator': False, 'avatar': 'https://secure.gravatar.com/avatar/d41d8cd98f00b204e9800998ecf8427e?default=mm&s=64', 'date': '03:Wrz:2024; 13:11', 'votes': 0, 'published': 1, 'class': 'ccomment-parent-is-112682 ccomment-even ccomment-comment '}, {'id': 112691, 'parentid': 112684, 'children': ['112694', '112708'], 'level': 2, 'name': 'Ola', 'comment': 'A wiesz ile osób jest przed tobą?', 'commentModerator': False, 'avatar': 'https://secure.gravatar.com/avatar/d41d8cd98f00b204e9800998ecf8427e?default=mm&s=64', 'date': '03:Wrz:2024; 13:18', 'votes': 0, 'published': 1, 'class': 'ccomment-parent-is-112684 ccomment-odd ccomment-comment '}, {'id': 112694, 'parentid': 112691, 'children': ['112695'], 'level': 3, 'name': 'xxx', 'comment': 'Ja na UMLUB się nie wybieram', 'commentModerator': False, 'avatar': 'https://secure.gravatar.com/avatar/d41d8cd98f00b204e9800998ecf8427e?default=mm&s=64', 'date': '03:Wrz:2024; 13:28', 'votes': -1, 'published': 1, 'class': 'ccomment-parent-is-112691 ccomment-even ccomment-comment '}, {'id': 112695, 'parentid': 112694, 'children': [], 'level': 4, 'name': 'Ola', 'comment': 'To było pytanie do Zuzi :)', 'commentModerator': False, 'avatar': 'https://secure.gravatar.com/avatar/d41d8cd98f00b204e9800998ecf8427e?default=mm&s=64', 'date': '03:Wrz:2024; 13:31', 'votes': 0, 'published': 1, 'class': 'ccomment-parent-is-112694 ccomment-odd ccomment-comment '}, {'id': 112708, 'parentid': 112691, 'children': [], 'level': 3, 'name': 'zuzia ', 'comment': 'jestem 30 na rezerwowej', 'commentModerator': False, 'avatar': 'https://secure.gravatar.com/avatar/d41d8cd98f00b204e9800998ecf8427e?default=mm&s=64', 'date': '03:Wrz:2024; 14:15', 'votes': 0, 'published': 1, 'class': 'ccomment-parent-is-112691 ccomment-even ccomment-comment '}, {'id': 112681, 'parentid': -1, 'children': ['112686'], 'level': 0, 'name': 'Lila', 'comment': 'Jest szansa na UMW z punktacją 162?', 'commentModerator': False, 'avatar': 'https://secure.gravatar.com/avatar/d41d8cd98f00b204e9800998ecf8427e?default=mm&s=64', 'date': '03:Wrz:2024; 13:09', 'votes': 0, 'published': 1, 'class': 'ccomment-odd ccomment-comment '}, {'id': 112686, 'parentid': 112681, 'children': ['112687'], 'level': 1, 'name': 'Pit', 'comment': 'Tak', 'commentModerator': False, 'avatar': 'https://secure.gravatar.com/avatar/d41d8cd98f00b204e9800998ecf8427e?default=mm&s=64', 'date': '03:Wrz:2024; 13:11', 'votes': 0, 'published': 1, 'class': 'ccomment-parent-is-112681 ccomment-even ccomment-comment '}, {'id': 112687, 'parentid': 112686, 'children': [], 'level': 2, 'name': 'Lila', 'comment': 'Dziękuję ', 'commentModerator': False, 'avatar': 'https://secure.gravatar.com/avatar/d41d8cd98f00b204e9800998ecf8427e?default=mm&s=64', 'date': '03:Wrz:2024; 13:11', 'votes': 0, 'published': 1, 'class': 'ccomment-parent-is-112686 ccomment-odd ccomment-comment '}, {'id': 112680, 'parentid': -1, 'children': ['112683'], 'level': 0, 'name': 'Xd', 'comment': '<div class=\"ccomment-quote-text\"><div class=\"ccomment-quote-text-author\">. napisał:</div><div class=\"ccomment-quote-text-body\">Dla Twojej wiadomości dostałam się tam gdzie chciałam. Napisałam maturę wysoko, ale wiem jak moi znajomi musieli czekać do końca i ostatecznie mają rok w plecy. Ja w porównaniu do Ciebie myślę o innych<div class=\"ccomment-quote-text\"><div class=\"ccomment-quote-text-author\">Xd napisał:</div><div class=\"ccomment-quote-text-body\"><div class=\"ccomment-quote-text\"><div class=\"ccomment-quote-text-author\">. napisał:</div><div class=\"ccomment-quote-text-body\">A na to miejsce mogli wejść ludzie zdecydowani i wytrwali, ale po co jak się pchają idioci. Za niestawienie się na studia po złożeniu wszystkich dokumentów i zaczęcie na innej uczelni, powinny być kary</div></div><br />\\nTo ty jesteś idiotą, bo nie umiesz napisać matury tak jak ci co napisali, dostali się tam , gdzie ty możesz tylko pomarzyć.<br />\\nA KAR nie było, NIE będzie.<br />\\nMusisz się z tym pogodzić. :))))))))<br />\\nI twoje &quot;powinny być kary&quot; uczelnie mają w du..e.</div></div></div></div><br />\\nA wiesz co mnie to?<br />\\nZakładając, że to prawda.<br />\\n', 'commentModerator': False, 'avatar': 'https://secure.gravatar.com/avatar/d41d8cd98f00b204e9800998ecf8427e?default=mm&s=64', 'date': '03:Wrz:2024; 13:09', 'votes': 0, 'published': 1, 'class': 'ccomment-even ccomment-comment '}, {'id': 112683, 'parentid': 112680, 'children': [], 'level': 1, 'name': 'xxx', 'comment': 'Piszcie sobie pod jednym wątkiem a nie ciągle cytujecie jeden drugiego i przez to zaśmiecacie forum', 'commentModerator': False, 'avatar': 'https://secure.gravatar.com/avatar/d41d8cd98f00b204e9800998ecf8427e?default=mm&s=64', 'date': '03:Wrz:2024; 13:10', 'votes': 0, 'published': 1, 'class': 'ccomment-parent-is-112680 ccomment-odd ccomment-comment '}, {'id': 112679, 'parentid': -1, 'children': [], 'level': 0, 'name': 'Natka', 'comment': 'Czy jest lista na WUM lekarski dzisiaj?', 'commentModerator': False, 'avatar': 'https://secure.gravatar.com/avatar/d41d8cd98f00b204e9800998ecf8427e?default=mm&s=64', 'date': '03:Wrz:2024; 13:07', 'votes': 0, 'published': 1, 'class': 'ccomment-even ccomment-comment '}, {'id': 112676, 'parentid': -1, 'children': ['112685'], 'level': 0, 'name': 'Anonim', 'comment': 'Myślicie że Kielce jeszcze spadną 100 miejsc ?<br />\\n', 'commentModerator': False, 'avatar': 'https://secure.gravatar.com/avatar/d41d8cd98f00b204e9800998ecf8427e?default=mm&s=64', 'date': '03:Wrz:2024; 13:03', 'votes': 0, 'published': 1, 'class': 'ccomment-odd ccomment-comment '}, {'id': 112685, 'parentid': 112676, 'children': [], 'level': 1, 'name': 'xxx', 'comment': 'Spadną i więcej', 'commentModerator': False, 'avatar': 'https://secure.gravatar.com/avatar/d41d8cd98f00b204e9800998ecf8427e?default=mm&s=64', 'date': '03:Wrz:2024; 13:11', 'votes': 1, 'published': 1, 'class': 'ccomment-parent-is-112676 ccomment-even ccomment-comment '}, {'id': 112672, 'parentid': -1, 'children': [], 'level': 0, 'name': '.', 'comment': 'Dla Twojej wiadomości dostałam się tam gdzie chciałam. Napisałam maturę wysoko, ale wiem jak moi znajomi musieli czekać do końca i ostatecznie mają rok w plecy. Ja w porównaniu do Ciebie myślę o innych<div class=\"ccomment-quote-text\"><div class=\"ccomment-quote-text-author\">Xd napisał:</div><div class=\"ccomment-quote-text-body\"><div class=\"ccomment-quote-text\"><div class=\"ccomment-quote-text-author\">. napisał:</div><div class=\"ccomment-quote-text-body\">A na to miejsce mogli wejść ludzie zdecydowani i wytrwali, ale po co jak się pchają idioci. Za niestawienie się na studia po złożeniu wszystkich dokumentów i zaczęcie na innej uczelni, powinny być kary</div></div><br />\\nTo ty jesteś idiotą, bo nie umiesz napisać matury tak jak ci co napisali, dostali się tam , gdzie ty możesz tylko pomarzyć.<br />\\nA KAR nie było, NIE będzie.<br />\\nMusisz się z tym pogodzić. :))))))))<br />\\nI twoje &quot;powinny być kary&quot; uczelnie mają w du..e.</div></div>', 'commentModerator': False, 'avatar': 'https://secure.gravatar.com/avatar/d41d8cd98f00b204e9800998ecf8427e?default=mm&s=64', 'date': '03:Wrz:2024; 12:51', 'votes': 0, 'published': 1, 'class': 'ccomment-odd ccomment-comment '}, {'id': 112671, 'parentid': -1, 'children': [], 'level': 0, 'name': 'b', 'comment': 'bardzo prosze osoby z sum katowice ktore dostaly sie juz na wymarzona uczelnie o rezygnacje wlasnie z sumu - czekam niecierpliwie az przepisza mnie z zabrza do kato a potrzeba do tego wolnych miejsc.....<br />\\n', 'commentModerator': False, 'avatar': 'https://secure.gravatar.com/avatar/d41d8cd98f00b204e9800998ecf8427e?default=mm&s=64', 'date': '03:Wrz:2024; 12:51', 'votes': 0, 'published': 1, 'class': 'ccomment-even ccomment-comment '}, {'id': 112666, 'parentid': -1, 'children': [], 'level': 0, 'name': 'Hhhhh', 'comment': 'Ile osób w tamtym roku weszło do Wrocławia we wrześniu?', 'commentModerator': False, 'avatar': 'https://secure.gravatar.com/avatar/d41d8cd98f00b204e9800998ecf8427e?default=mm&s=64', 'date': '03:Wrz:2024; 12:38', 'votes': 0, 'published': 1, 'class': 'ccomment-odd ccomment-comment '}, {'id': 112661, 'parentid': -1, 'children': ['112663', '112668'], 'level': 0, 'name': 'A', 'comment': '<div class=\"ccomment-quote-text\"><div class=\"ccomment-quote-text-author\">Krzysztof napisał:</div><div class=\"ccomment-quote-text-body\">A myślicie, że 300 osób jeszcze wejdziesz?</div></div><br />\\nNie robie sobie dużych nadziei…<br />\\nMusiałby próg spaść jeszcze o około 10 punktów. Natomiast w innych latach przez wrzesień jeszcze tylko punktów na spokojnie spadało.<br />\\n<br />\\nNatomiast patrząc od drugiej strony - fakt, że jestem 300 w kolejce troche mi obniza te nadzieje.', 'commentModerator': False, 'avatar': 'https://secure.gravatar.com/avatar/d41d8cd98f00b204e9800998ecf8427e?default=mm&s=64', 'date': '03:Wrz:2024; 12:31', 'votes': 0, 'published': 1, 'class': 'ccomment-even ccomment-comment '}, {'id': 112663, 'parentid': 112661, 'children': ['112664'], 'level': 1, 'name': 'Krzysztof ', 'comment': 'Jestem w tej samej sytuacji ;-(', 'commentModerator': False, 'avatar': 'https://secure.gravatar.com/avatar/d41d8cd98f00b204e9800998ecf8427e?default=mm&s=64', 'date': '03:Wrz:2024; 12:34', 'votes': 0, 'published': 1, 'class': 'ccomment-parent-is-112661 ccomment-odd ccomment-comment '}, {'id': 112664, 'parentid': 112663, 'children': [], 'level': 2, 'name': 'A', 'comment': 'Przez miesiąc może się dużo zmienić. Ja nadal wierzę…', 'commentModerator': False, 'avatar': 'https://secure.gravatar.com/avatar/d41d8cd98f00b204e9800998ecf8427e?default=mm&s=64', 'date': '03:Wrz:2024; 12:35', 'votes': 0, 'published': 1, 'class': 'ccomment-parent-is-112663 ccomment-even ccomment-comment '}, {'id': 112668, 'parentid': 112661, 'children': ['112673'], 'level': 1, 'name': 'oko', 'comment': 'trzeba czekac', 'commentModerator': False, 'avatar': 'https://secure.gravatar.com/avatar/0ad7905ecf6f1af3aecbe2c036ca70d8?default=mm&s=64', 'date': '03:Wrz:2024; 12:42', 'votes': 1, 'published': 1, 'class': 'ccomment-parent-is-112661 ccomment-odd ccomment-comment '}, {'id': 112673, 'parentid': 112668, 'children': ['112675'], 'level': 2, 'name': 'A', 'comment': 'Myślicie, że od przyszłego tygodnia zacznie spadać próg w Łodzi?', 'commentModerator': False, 'avatar': 'https://secure.gravatar.com/avatar/d41d8cd98f00b204e9800998ecf8427e?default=mm&s=64', 'date': '03:Wrz:2024; 12:55', 'votes': 0, 'published': 1, 'class': 'ccomment-parent-is-112668 ccomment-even ccomment-comment '}, {'id': 112675, 'parentid': 112673, 'children': [], 'level': 3, 'name': 'oko', 'comment': 'chyba tak, te pierwsze listy po przestoju w sierpniu moga byc troche nieaktualne', 'commentModerator': False, 'avatar': 'https://secure.gravatar.com/avatar/0ad7905ecf6f1af3aecbe2c036ca70d8?default=mm&s=64', 'date': '03:Wrz:2024; 13:02', 'votes': 1, 'published': 1, 'class': 'ccomment-parent-is-112673 ccomment-odd ccomment-comment '}, {'id': 112660, 'parentid': -1, 'children': [], 'level': 0, 'name': 'Pit', 'comment': 'Wrocław przyjął 25 osób, całe 165 weszło.', 'commentModerator': False, 'avatar': 'https://secure.gravatar.com/avatar/d41d8cd98f00b204e9800998ecf8427e?default=mm&s=64', 'date': '03:Wrz:2024; 12:30', 'votes': 0, 'published': 1, 'class': 'ccomment-even ccomment-comment '}]}\n"
     ]
    }
   ],
   "source": [
    "response = requests.get(url, params=params)\n",
    "total_comments = response.json()['info']['total']\n",
    "\n",
    "\n",
    "print(response.json())"
   ]
  },
  {
   "cell_type": "code",
   "execution_count": null,
   "metadata": {},
   "outputs": [],
   "source": []
  }
 ],
 "metadata": {
  "kernelspec": {
   "display_name": "e-medycyna",
   "language": "python",
   "name": "python3"
  },
  "language_info": {
   "codemirror_mode": {
    "name": "ipython",
    "version": 3
   },
   "file_extension": ".py",
   "mimetype": "text/x-python",
   "name": "python",
   "nbconvert_exporter": "python",
   "pygments_lexer": "ipython3",
   "version": "3.12.4"
  }
 },
 "nbformat": 4,
 "nbformat_minor": 2
}
